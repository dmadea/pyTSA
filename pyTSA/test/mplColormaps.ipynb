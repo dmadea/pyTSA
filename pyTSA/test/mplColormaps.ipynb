{
 "cells": [
  {
   "cell_type": "code",
   "execution_count": 11,
   "metadata": {},
   "outputs": [],
   "source": [
    "import numpy as np\n",
    "import matplotlib.pyplot as plt\n",
    "from matplotlib import cm\n",
    "from matplotlib import colormaps\n",
    "import matplotlib as mp"
   ]
  },
  {
   "cell_type": "code",
   "execution_count": 12,
   "metadata": {},
   "outputs": [],
   "source": [
    "\n",
    "f = open('data1.txt', 'w')\n",
    "\n",
    "for cmap in mp.colormaps.values():\n",
    "    if (cmap.name.endswith('_r') or cmap.name in ['Greys', 'gist_gray', 'gray']):\n",
    "        continue\n",
    "\n",
    "    f.write(f\"static {cmap.name}: ILut = [\\n\")\n",
    "\n",
    "    n = 100\n",
    "    for i in range(n):\n",
    "        s = i / (n - 1)\n",
    "        vals = np.asarray(cmap(s)) * 255\n",
    "        vals = np.round(vals)\n",
    "        f.write(f\"\\t{{pos: {s:.4g}, r: {vals[0]}, g: {vals[1]}, b: {vals[2]}, a: {vals[3]}}},\\n\")\n",
    "\n",
    "    f.write(\"];\\n\\n\")\n",
    "\n",
    "f.close()"
   ]
  },
  {
   "cell_type": "code",
   "execution_count": null,
   "metadata": {},
   "outputs": [],
   "source": []
  }
 ],
 "metadata": {
  "kernelspec": {
   "display_name": "Python 3",
   "language": "python",
   "name": "python3"
  },
  "language_info": {
   "codemirror_mode": {
    "name": "ipython",
    "version": 3
   },
   "file_extension": ".py",
   "mimetype": "text/x-python",
   "name": "python",
   "nbconvert_exporter": "python",
   "pygments_lexer": "ipython3",
   "version": "3.10.11"
  }
 },
 "nbformat": 4,
 "nbformat_minor": 2
}
